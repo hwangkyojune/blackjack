{
 "cells": [
  {
   "cell_type": "code",
   "execution_count": 67,
   "metadata": {},
   "outputs": [],
   "source": [
    "import random"
   ]
  },
  {
   "cell_type": "code",
   "execution_count": 68,
   "metadata": {},
   "outputs": [
    {
     "data": {
      "text/plain": [
       "48"
      ]
     },
     "execution_count": 68,
     "metadata": {},
     "output_type": "execute_result"
    }
   ],
   "source": [
    "#deck init\n",
    "decks = []\n",
    "shapes = ['Hearts','Diamonds','Clubs','Spades']\n",
    "ranks = ['Ace'] + [str(rank) for rank in range(2,10)] + ['Jack','Queen','King']\n",
    "\n",
    "for shape in shapes:\n",
    "    for rank in ranks:\n",
    "        decks.append(f\"{shape} {rank}\")\n",
    "        \n",
    "len(decks)"
   ]
  },
  {
   "cell_type": "code",
   "execution_count": 70,
   "metadata": {},
   "outputs": [
    {
     "name": "stdout",
     "output_type": "stream",
     "text": [
      "{'Ace': 11, '2': 2, '3': 3, '4': 4, '5': 5, '6': 6, '7': 7, '8': 8, '9': 9, 'Jack': 10, 'Queen': 10, 'King': 10}\n"
     ]
    }
   ],
   "source": [
    "#score setting\n",
    "#뽑은 rank마다의 점수를 저장\n",
    "scores = [min(i,10) for i in range(1,len(ranks)+1)]\n",
    "score_of_rank = dict(zip(ranks,scores))\n",
    "score_of_rank[\"Ace\"] = 11\n",
    "print(score_of_rank)\n",
    "\n",
    "#카드 섞기\n",
    "def shuffle_deck():\n",
    "    random.shuffle(decks)\n"
   ]
  },
  {
   "cell_type": "code",
   "execution_count": 79,
   "metadata": {},
   "outputs": [],
   "source": [
    "# player class는 소유한 카드 리스트(cards), 점수(total_score) 속성과 카드 뽑기 함수가 있음\n",
    "class Player:\n",
    "    #각 player마다 total_score 2장부터 시작\n",
    "        def __init__(self):\n",
    "            #player_end는 player가 게임을 계속할지 정하는 속성\n",
    "            self.player_end = False\n",
    "            \n",
    "            self.total_score = 0\n",
    "            self.cards = []\n",
    "            self.deal_card()\n",
    "            self.deal_card()\n",
    "            #self.total_score = self.scoring()\n",
    "\n",
    "        #가지고 있는 카드의 점수 update\n",
    "        def scoring(self):\n",
    "            #player_ranks는 player가 소유하고 있는 각 카드들의 rank 리스트\n",
    "            player_ranks = [score.split(' ')[1] for score in self.cards]\n",
    "            #각 rank에 해당하는 score들을 합친 것이 total_score\n",
    "            total_score = sum([score_of_rank[rank] for rank in player_ranks])\n",
    "            #Ace가 있고, 21이 넘을 경우 10 제거\n",
    "            for rank in player_ranks :\n",
    "                  if total_score < 21 :\n",
    "                        break\n",
    "                  if rank == 'Ace':\n",
    "                        total_score -= 10\n",
    "                              \n",
    "            return total_score\n",
    "\n",
    "        \n",
    "        #카드 뽑기 & 카드 소유에 추가, 총 점수 업데이트\n",
    "        def deal_card(self):\n",
    "              self.cards.append(decks.pop(-1))\n",
    "              self.total_score = self.scoring()"
   ]
  },
  {
   "cell_type": "code",
   "execution_count": 80,
   "metadata": {},
   "outputs": [
    {
     "name": "stdout",
     "output_type": "stream",
     "text": [
      "Welcome to BlackJack!\n"
     ]
    },
    {
     "ename": "TypeError",
     "evalue": "player_turn() takes 0 positional arguments but 1 was given",
     "output_type": "error",
     "traceback": [
      "\u001b[1;31m---------------------------------------------------------------------------\u001b[0m",
      "\u001b[1;31mTypeError\u001b[0m                                 Traceback (most recent call last)",
      "\u001b[1;32mc:\\Users\\황교준\\Desktop\\gitpractice\\blackjack\\blackjack\\blackjack.ipynb Cell 5\u001b[0m in \u001b[0;36m<cell line: 28>\u001b[1;34m()\u001b[0m\n\u001b[0;32m     <a href='vscode-notebook-cell:/c%3A/Users/%ED%99%A9%EA%B5%90%EC%A4%80/Desktop/gitpractice/blackjack/blackjack/blackjack.ipynb#X15sZmlsZQ%3D%3D?line=24'>25</a>\u001b[0m         \u001b[39mif\u001b[39;00m player\u001b[39m.\u001b[39mplayer_end \u001b[39mand\u001b[39;00m dealer\u001b[39m.\u001b[39mplayer_end:\n\u001b[0;32m     <a href='vscode-notebook-cell:/c%3A/Users/%ED%99%A9%EA%B5%90%EC%A4%80/Desktop/gitpractice/blackjack/blackjack/blackjack.ipynb#X15sZmlsZQ%3D%3D?line=25'>26</a>\u001b[0m             \u001b[39mbreak\u001b[39;00m\n\u001b[1;32m---> <a href='vscode-notebook-cell:/c%3A/Users/%ED%99%A9%EA%B5%90%EC%A4%80/Desktop/gitpractice/blackjack/blackjack/blackjack.ipynb#X15sZmlsZQ%3D%3D?line=27'>28</a>\u001b[0m play_game(player1,dealer)\n\u001b[0;32m     <a href='vscode-notebook-cell:/c%3A/Users/%ED%99%A9%EA%B5%90%EC%A4%80/Desktop/gitpractice/blackjack/blackjack/blackjack.ipynb#X15sZmlsZQ%3D%3D?line=29'>30</a>\u001b[0m \u001b[39mif\u001b[39;00m player1\u001b[39m.\u001b[39mtotal_score \u001b[39m>\u001b[39m dealer\u001b[39m.\u001b[39mtotal_score:\n\u001b[0;32m     <a href='vscode-notebook-cell:/c%3A/Users/%ED%99%A9%EA%B5%90%EC%A4%80/Desktop/gitpractice/blackjack/blackjack/blackjack.ipynb#X15sZmlsZQ%3D%3D?line=30'>31</a>\u001b[0m     \u001b[39mprint\u001b[39m(\u001b[39m\"\u001b[39m\u001b[39myou win!\u001b[39m\u001b[39m\"\u001b[39m)\n",
      "\u001b[1;32mc:\\Users\\황교준\\Desktop\\gitpractice\\blackjack\\blackjack\\blackjack.ipynb Cell 5\u001b[0m in \u001b[0;36mplay_game\u001b[1;34m(player, dealer)\u001b[0m\n\u001b[0;32m     <a href='vscode-notebook-cell:/c%3A/Users/%ED%99%A9%EA%B5%90%EC%A4%80/Desktop/gitpractice/blackjack/blackjack/blackjack.ipynb#X15sZmlsZQ%3D%3D?line=17'>18</a>\u001b[0m \u001b[39mwhile\u001b[39;00m \u001b[39mTrue\u001b[39;00m :\n\u001b[0;32m     <a href='vscode-notebook-cell:/c%3A/Users/%ED%99%A9%EA%B5%90%EC%A4%80/Desktop/gitpractice/blackjack/blackjack/blackjack.ipynb#X15sZmlsZQ%3D%3D?line=18'>19</a>\u001b[0m     \u001b[39mif\u001b[39;00m \u001b[39mnot\u001b[39;00m player\u001b[39m.\u001b[39mplayer_end :\n\u001b[1;32m---> <a href='vscode-notebook-cell:/c%3A/Users/%ED%99%A9%EA%B5%90%EC%A4%80/Desktop/gitpractice/blackjack/blackjack/blackjack.ipynb#X15sZmlsZQ%3D%3D?line=19'>20</a>\u001b[0m         player_turn(player)\n\u001b[0;32m     <a href='vscode-notebook-cell:/c%3A/Users/%ED%99%A9%EA%B5%90%EC%A4%80/Desktop/gitpractice/blackjack/blackjack/blackjack.ipynb#X15sZmlsZQ%3D%3D?line=21'>22</a>\u001b[0m     \u001b[39mif\u001b[39;00m \u001b[39mnot\u001b[39;00m dealer\u001b[39m.\u001b[39mplayer_end :\n\u001b[0;32m     <a href='vscode-notebook-cell:/c%3A/Users/%ED%99%A9%EA%B5%90%EC%A4%80/Desktop/gitpractice/blackjack/blackjack/blackjack.ipynb#X15sZmlsZQ%3D%3D?line=22'>23</a>\u001b[0m         dealer_turn(dealer)\n",
      "\u001b[1;31mTypeError\u001b[0m: player_turn() takes 0 positional arguments but 1 was given"
     ]
    }
   ],
   "source": [
    "#playerturn 함수는 게임을 진행할지 멈출지 결정 멈춘다면 Player class의 속성 player_end True변경, 진행한다면 메소드 player.deal_card() 호출\n",
    "#뽑고 21넘으면 강제종료 & 패배 \n",
    "def player_turn(player:Player):\n",
    "    pass\n",
    "#dealer_turn은 점수 17이하면 계속 진행, 21넘으면 dealer 패배\n",
    "def dealer_turn(dealer:Player):\n",
    "    pass\n",
    "\n",
    "player1 = Player()\n",
    "dealer = Player()\n",
    "\n",
    "\n",
    "def play_game(player : Player ,dealer : Player):\n",
    "    print(\"Welcome to BlackJack!\")\n",
    "    shuffle_deck()\n",
    "\n",
    "\n",
    "    while True :\n",
    "        if not player.player_end :\n",
    "            player_turn(player)\n",
    "\n",
    "        if not dealer.player_end :\n",
    "            dealer_turn(dealer)\n",
    "        \n",
    "        if player.player_end and dealer.player_end:\n",
    "            break\n",
    "\n",
    "play_game(player1,dealer)\n",
    "\n",
    "if player1.total_score > dealer.total_score:\n",
    "    print(\"you win!\")\n",
    "elif player1.total_score == dealer.total_score:\n",
    "    print(\"push\")\n",
    "else :\n",
    "    print(\"dealer win!\")\n",
    "\n",
    "\n"
   ]
  }
 ],
 "metadata": {
  "kernelspec": {
   "display_name": "Python 3",
   "language": "python",
   "name": "python3"
  },
  "language_info": {
   "codemirror_mode": {
    "name": "ipython",
    "version": 3
   },
   "file_extension": ".py",
   "mimetype": "text/x-python",
   "name": "python",
   "nbconvert_exporter": "python",
   "pygments_lexer": "ipython3",
   "version": "3.10.1"
  },
  "orig_nbformat": 4
 },
 "nbformat": 4,
 "nbformat_minor": 2
}
