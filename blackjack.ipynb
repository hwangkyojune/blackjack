{
 "cells": [
  {
   "cell_type": "code",
   "execution_count": 1,
   "metadata": {},
   "outputs": [],
   "source": [
    "import random"
   ]
  },
  {
   "cell_type": "code",
   "execution_count": 3,
   "metadata": {},
   "outputs": [
    {
     "data": {
      "text/plain": [
       "52"
      ]
     },
     "execution_count": 3,
     "metadata": {},
     "output_type": "execute_result"
    }
   ],
   "source": [
    "#deck init\n",
    "decks = []\n",
    "shapes = ['Hearts','Diamonds','Clubs','Spades']\n",
    "ranks = ['Ace'] + [str(rank) for rank in range(2,11)] + ['Jack','Queen','King']\n",
    "\n",
    "for shape in shapes:\n",
    "    for rank in ranks:\n",
    "        decks.append(f\"{shape} {rank}\")\n",
    "        \n",
    "len(decks)"
   ]
  },
  {
   "cell_type": "code",
   "execution_count": 4,
   "metadata": {},
   "outputs": [],
   "source": [
    "#score setting\n",
    "#뽑은 rank마다의 점수를 저장\n",
    "scores = [min(i,10) for i in range(1,len(ranks)+1)]\n",
    "score_of_rank = dict(zip(ranks,scores))\n",
    "\n",
    "\n",
    "#카드 섞기\n",
    "def shuffle_deck():\n",
    "    random.shuffle(decks)\n"
   ]
  },
  {
   "cell_type": "code",
   "execution_count": 5,
   "metadata": {},
   "outputs": [],
   "source": [
    "# player class는 소유한 카드 리스트(cards), 점수(total_score) 속성과 카드 뽑기 함수가 있음\n",
    "class player:\n",
    "    #각 player마다 total_score 2장부터 시작\n",
    "        def __init__(self):\n",
    "            self.cards = []\n",
    "            self.deal_card(decks)\n",
    "            self.deal_card(decks)\n",
    "            self.total_score = self.scoring(self.cards)\n",
    "            self.player_end = False\n",
    "\n",
    "        #가지고 있는 카드의 점수 합 반환\n",
    "        def scoring(self,scores):\n",
    "              pass\n",
    "        \n",
    "        #카드 뽑기 & 카드 소유, 총 점수 업데이트\n",
    "        def deal_card(self,decks):\n",
    "              self.cards.append(decks.pop(-1))\n",
    "              self.total_score = self.scoring(self.cards)"
   ]
  },
  {
   "cell_type": "code",
   "execution_count": 8,
   "metadata": {},
   "outputs": [],
   "source": [
    "def player_turn(player:player):\n",
    "    print('Player hand :', player.cards)\n",
    "    print('Player score :', player.total_score)\n",
    "    if player.total_score > 21:\n",
    "        print('Player bust!')\n",
    "        player.player_end = True\n",
    "    elif player.total_score == 21:\n",
    "        print('Blackjack!')\n",
    "        player.player_end = True\n",
    "    else:\n",
    "        answer = input('Do you want to hit or stay? ')\n",
    "        if answer == 'hit':\n",
    "            print('Player hit!')\n",
    "            player.deal_card(decks)\n",
    "        elif answer == 'stay':\n",
    "            print('Player stay!')\n",
    "            player.player_end = True\n",
    "\n",
    "\n",
    "\n",
    "def dealer_turn():\n",
    "    pass\n",
    "\n",
    "\n",
    "def play_game():\n",
    "    print(\"Welcome to BlackJack!\")\n",
    "    shuffle_deck()\n",
    "\n",
    "    player = player()\n",
    "    dealer = player()\n",
    "\n",
    "    while True :\n",
    "        if not player.player_end :\n",
    "            player_turn(player)\n",
    "\n",
    "        if not dealer.player_end :\n",
    "            dealer_turn(dealer)\n",
    "        \n",
    "        if player.player_end and dealer.player_end:\n",
    "            break\n",
    "\n",
    "\n",
    "\n",
    "\n",
    "    \n"
   ]
  }
 ],
 "metadata": {
  "kernelspec": {
   "display_name": "Python 3",
   "language": "python",
   "name": "python3"
  },
  "language_info": {
   "codemirror_mode": {
    "name": "ipython",
    "version": 3
   },
   "file_extension": ".py",
   "mimetype": "text/x-python",
   "name": "python",
   "nbconvert_exporter": "python",
   "pygments_lexer": "ipython3",
   "version": "3.11.4"
  },
  "orig_nbformat": 4
 },
 "nbformat": 4,
 "nbformat_minor": 2
}
