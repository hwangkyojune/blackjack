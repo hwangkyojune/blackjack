{
 "cells": [
  {
   "cell_type": "code",
   "execution_count": 10,
   "metadata": {},
   "outputs": [],
   "source": [
    "import random"
   ]
  },
  {
   "cell_type": "code",
   "execution_count": 11,
   "metadata": {},
   "outputs": [
    {
     "data": {
      "text/plain": [
       "48"
      ]
     },
     "execution_count": 11,
     "metadata": {},
     "output_type": "execute_result"
    }
   ],
   "source": [
    "#deck init\n",
    "decks = []\n",
    "shapes = ['Hearts','Diamonds','Clubs','Spades']\n",
    "ranks = ['Ace'] + [str(rank) for rank in range(2,10)] + ['Jack','Queen','King']\n",
    "\n",
    "for shape in shapes:\n",
    "    for rank in ranks:\n",
    "        decks.append(f\"{shape} {rank}\")\n",
    "        \n",
    "len(decks)"
   ]
  },
  {
   "cell_type": "code",
   "execution_count": 29,
   "metadata": {},
   "outputs": [
    {
     "name": "stdout",
     "output_type": "stream",
     "text": [
      "{'Ace': 1, '2': 2, '3': 3, '4': 4, '5': 5, '6': 6, '7': 7, '8': 8, '9': 9, 'Jack': 10, 'Queen': 10, 'King': 10}\n"
     ]
    }
   ],
   "source": [
    "#score setting\n",
    "#뽑은 rank마다의 점수를 저장\n",
    "scores = [min(i,10) for i in range(1,len(ranks)+1)]\n",
    "score_of_rank = dict(zip(ranks,scores))\n",
    "print(score_of_rank)\n",
    "\n",
    "#카드 섞기\n",
    "def shuffle_deck():\n",
    "    random.shuffle(decks)\n"
   ]
  },
  {
   "cell_type": "code",
   "execution_count": 43,
   "metadata": {},
   "outputs": [],
   "source": [
    "# player class는 소유한 카드 리스트(cards), 점수(total_score) 속성과 카드 뽑기 함수가 있음\n",
    "class player:\n",
    "    #각 player마다 total_score 2장부터 시작\n",
    "        def __init__(self):\n",
    "            self.total_score = 0\n",
    "            self.cards = []\n",
    "            self.deal_card()\n",
    "            self.deal_card()\n",
    "            #self.total_score = self.scoring()\n",
    "\n",
    "        #가지고 있는 카드의 점수 update\n",
    "        def scoring(self):\n",
    "            #player_ranks는 player가 소유하고 있는 각 카드들의 rank 리스트\n",
    "            player_ranks = [score.split(' ')[1] for score in self.cards]\n",
    "\n",
    "            #각 rank에 해당하는 score들을 합친 것이 total_score\n",
    "            total_score = sum([score_of_rank[rank] for rank in player_ranks])\n",
    "\n",
    "            return total_score\n",
    "\n",
    "        \n",
    "        #카드 뽑기 & 카드 소유에 추가, 총 점수 업데이트\n",
    "        def deal_card(self):\n",
    "              self.cards.append(decks.pop(-1))\n",
    "              self.total_score = self.scoring()"
   ]
  },
  {
   "cell_type": "code",
   "execution_count": 46,
   "metadata": {},
   "outputs": [
    {
     "ename": "UnboundLocalError",
     "evalue": "local variable 'a' referenced before assignment",
     "output_type": "error",
     "traceback": [
      "\u001b[1;31m---------------------------------------------------------------------------\u001b[0m",
      "\u001b[1;31mUnboundLocalError\u001b[0m                         Traceback (most recent call last)",
      "\u001b[1;32mc:\\Users\\황교준\\Desktop\\gitpractice\\blackjack\\blackjack\\blackjack.ipynb Cell 5\u001b[0m in \u001b[0;36m<cell line: 7>\u001b[1;34m()\u001b[0m\n\u001b[0;32m      <a href='vscode-notebook-cell:/c%3A/Users/%ED%99%A9%EA%B5%90%EC%A4%80/Desktop/gitpractice/blackjack/blackjack/blackjack.ipynb#X16sZmlsZQ%3D%3D?line=3'>4</a>\u001b[0m     a\u001b[39m+\u001b[39m\u001b[39m=\u001b[39m\u001b[39m5\u001b[39m\n\u001b[0;32m      <a href='vscode-notebook-cell:/c%3A/Users/%ED%99%A9%EA%B5%90%EC%A4%80/Desktop/gitpractice/blackjack/blackjack/blackjack.ipynb#X16sZmlsZQ%3D%3D?line=4'>5</a>\u001b[0m     \u001b[39mprint\u001b[39m(a)\n\u001b[1;32m----> <a href='vscode-notebook-cell:/c%3A/Users/%ED%99%A9%EA%B5%90%EC%A4%80/Desktop/gitpractice/blackjack/blackjack/blackjack.ipynb#X16sZmlsZQ%3D%3D?line=6'>7</a>\u001b[0m b()\n",
      "\u001b[1;32mc:\\Users\\황교준\\Desktop\\gitpractice\\blackjack\\blackjack\\blackjack.ipynb Cell 5\u001b[0m in \u001b[0;36mb\u001b[1;34m()\u001b[0m\n\u001b[0;32m      <a href='vscode-notebook-cell:/c%3A/Users/%ED%99%A9%EA%B5%90%EC%A4%80/Desktop/gitpractice/blackjack/blackjack/blackjack.ipynb#X16sZmlsZQ%3D%3D?line=2'>3</a>\u001b[0m \u001b[39mdef\u001b[39;00m \u001b[39mb\u001b[39m():\n\u001b[1;32m----> <a href='vscode-notebook-cell:/c%3A/Users/%ED%99%A9%EA%B5%90%EC%A4%80/Desktop/gitpractice/blackjack/blackjack/blackjack.ipynb#X16sZmlsZQ%3D%3D?line=3'>4</a>\u001b[0m     a\u001b[39m+\u001b[39m\u001b[39m=\u001b[39m\u001b[39m5\u001b[39m\n\u001b[0;32m      <a href='vscode-notebook-cell:/c%3A/Users/%ED%99%A9%EA%B5%90%EC%A4%80/Desktop/gitpractice/blackjack/blackjack/blackjack.ipynb#X16sZmlsZQ%3D%3D?line=4'>5</a>\u001b[0m     \u001b[39mprint\u001b[39m(a)\n",
      "\u001b[1;31mUnboundLocalError\u001b[0m: local variable 'a' referenced before assignment"
     ]
    }
   ],
   "source": [
    "a = 5\n",
    "\n",
    "def b():\n",
    "    a = a\n",
    "    a += 5\n",
    "    print(a)\n",
    "\n",
    "b()"
   ]
  },
  {
   "cell_type": "code",
   "execution_count": 23,
   "metadata": {},
   "outputs": [],
   "source": [
    "#player_turn1과 dealer_turn 함수에서는 인수로 받은 player객체의 total_score를 update\n",
    "def player1_turn():\n",
    "    pass\n",
    "\n",
    "\n",
    "\n",
    "def dealer_turn():\n",
    "    pass\n",
    "\n",
    "\n",
    "def play_game():\n",
    "    print(\"Welcome to BlackJack!\")\n",
    "    shuffle_deck()\n",
    "\n",
    "    player1 = player()\n",
    "    dealer = player()\n",
    "\n",
    "    player1_turn(player1)\n",
    "    dealer_turn(dealer)\n",
    "\n",
    "    if player1.total_score > dealer.total_score:\n",
    "        print(\"you win!\")\n",
    "    elif player1.total_score == dealer.total_score:\n",
    "        print(\"push\")\n",
    "    else :\n",
    "        print(\"dealer win!\")\n",
    "\n",
    "\n"
   ]
  }
 ],
 "metadata": {
  "kernelspec": {
   "display_name": "Python 3",
   "language": "python",
   "name": "python3"
  },
  "language_info": {
   "codemirror_mode": {
    "name": "ipython",
    "version": 3
   },
   "file_extension": ".py",
   "mimetype": "text/x-python",
   "name": "python",
   "nbconvert_exporter": "python",
   "pygments_lexer": "ipython3",
   "version": "3.10.1"
  },
  "orig_nbformat": 4
 },
 "nbformat": 4,
 "nbformat_minor": 2
}
